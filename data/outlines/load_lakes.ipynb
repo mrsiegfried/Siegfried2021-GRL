{
 "cells": [
  {
   "cell_type": "code",
   "execution_count": 1,
   "metadata": {},
   "outputs": [],
   "source": [
    "# Just a bit of code to run through the HDF5 file and load into a\n",
    "# geopandas geodataframe.\n",
    "#\n",
    "# Written 5/28/21 by W. Sauthoff (sauthoff@mines.edu)\n",
    "# Modified 6/8/21 by M. Siegfried (siegfried@mines.edu)\n",
    "\n",
    "# import standard library packages\n",
    "import os.path\n",
    "\n",
    "# import external packages\n",
    "import geopandas as gpd\n",
    "import h5py\n",
    "import matplotlib.pyplot as plt\n",
    "from matplotlib import ticker\n",
    "import pandas as pd\n",
    "from pyproj import CRS, Transformer\n",
    "import numpy as np\n",
    "from shapely.geometry import Polygon, MultiPolygon"
   ]
  },
  {
   "cell_type": "code",
   "execution_count": 2,
   "metadata": {},
   "outputs": [],
   "source": [
    "# import subglacial lake outlines (Siegfried & Fricker, 2018)\n",
    "h5f = h5py.File('SiegfriedFricker2018-outlines.h5', 'r')\n",
    "outline_geometries = [] # store polygons\n",
    "citations = [] # store citation information\n",
    "\n",
    "# we're going to calculate geodesic lake area because that is often screwed up\n",
    "# and occasionally incorrect in the literature\n",
    "areas = []\n",
    "\n",
    "# we're going to need to do some coordinate transforms for the geodesic area\n",
    "# define CRS for Antarcica and make a converter from xy to ll\n",
    "CRS_LL = \"EPSG:4326\" # wgs84 in lon,lat\n",
    "CRS_XY = h5f.attrs.get('proj_crs') # get projection from hdf5 file\n",
    "XY_TO_LL = Transformer.from_crs(CRS_XY, CRS_LL, always_xy = True) # make coord transformer\n",
    "geod = CRS(CRS_LL).get_geod() # geod object for calculating geodesic area on defined ellipsoid\n",
    "\n",
    "# look through each lake and load all of it's info\n",
    "for lake in h5f.keys():\n",
    "    outline_x = h5f[lake]['x'][:]\n",
    "    outline_y = h5f[lake]['y'][:]\n",
    "    outlines_xy = np.stack((outline_x, outline_y),axis=2).reshape(outline_x.shape[1], 2)\n",
    "\n",
    "    # A single lake with multiple polygons is NaN broken---need to identify and\n",
    "    # load as a MultiPolygon. Otherwise it's easy (just load as polygon)\n",
    "    if np.isnan(outlines_xy)[:,0].sum() == 0:\n",
    "        geometry = Polygon(outlines_xy)\n",
    "        lon, lat = XY_TO_LL.transform(outlines_xy[:,0], outlines_xy[:,1])\n",
    "        this_area = abs(geod.polygon_area_perimeter(lon,lat)[0])/1e6\n",
    "    else:\n",
    "        this_area = 0\n",
    "        # break at NaN values and load each as separate polygons\n",
    "        idx = np.where(np.isnan(outlines_xy[:,0]))[0]\n",
    "\n",
    "        # grab outline of first lake before getting into the loop\n",
    "        this_outline = outlines_xy[0:idx[0],:]\n",
    "        pgons = [Polygon(this_outline)] # put the first polygon in a list\n",
    "        lon,lat = XY_TO_LL.transform(this_outline[:,0], this_outline[:,1])\n",
    "        this_area += abs(geod.polygon_area_perimeter(lon,lat)[0])/1e6 # add its area\n",
    "        for i in np.arange(0,len(idx)):\n",
    "            if i == len(idx)-1:\n",
    "                this_outline = outlines_xy[idx[i]+1:,:]\n",
    "            else:\n",
    "                this_outline = outlines_xy[idx[i]+1:idx[i+1]]\n",
    "\n",
    "            pgons.append(Polygon(this_outline))\n",
    "            lon,lat = XY_TO_LL.transform(this_outline[:,0], this_outline[:,1])\n",
    "            this_area += abs(geod.polygon_area_perimeter(lon,lat)[0])/1e6\n",
    "        geometry = MultiPolygon(pgons)\n",
    "\n",
    "    # append all the results in the right place\n",
    "    outline_geometries.append(geometry)\n",
    "    citations.append(h5f[lake].attrs.get('citation')[0].decode('UTF-8'))\n",
    "    areas.append(this_area)\n",
    "\n",
    "# make a pandas dataframe with all the necessary info\n",
    "df = pd.DataFrame(zip(h5f.keys(), outline_geometries, areas, citations),\n",
    "                  columns=['name', 'geometry', 'area (km^2)', 'cite'])\n",
    "# convert to geopands geodataframe\n",
    "gdf = gpd.GeoDataFrame(df, crs=CRS_XY, geometry=outline_geometries)\n",
    "# close HDF5 file\n",
    "h5f.close()"
   ]
  },
  {
   "cell_type": "code",
   "execution_count": 3,
   "metadata": {},
   "outputs": [
    {
     "data": {
      "text/html": [
       "<div>\n",
       "<style scoped>\n",
       "    .dataframe tbody tr th:only-of-type {\n",
       "        vertical-align: middle;\n",
       "    }\n",
       "\n",
       "    .dataframe tbody tr th {\n",
       "        vertical-align: top;\n",
       "    }\n",
       "\n",
       "    .dataframe thead th {\n",
       "        text-align: right;\n",
       "    }\n",
       "</style>\n",
       "<table border=\"1\" class=\"dataframe\">\n",
       "  <thead>\n",
       "    <tr style=\"text-align: right;\">\n",
       "      <th></th>\n",
       "      <th>name</th>\n",
       "      <th>geometry</th>\n",
       "      <th>area (km^2)</th>\n",
       "      <th>cite</th>\n",
       "    </tr>\n",
       "  </thead>\n",
       "  <tbody>\n",
       "    <tr>\n",
       "      <th>93</th>\n",
       "      <td>MercerSubglacialLake</td>\n",
       "      <td>POLYGON ((-299950.018 -500675.034, -299949.971...</td>\n",
       "      <td>143.202974</td>\n",
       "      <td>Fricker &amp; Scambos, 2009, J. Glac., doi:10.3189...</td>\n",
       "    </tr>\n",
       "  </tbody>\n",
       "</table>\n",
       "</div>"
      ],
      "text/plain": [
       "                    name                                           geometry  \\\n",
       "93  MercerSubglacialLake  POLYGON ((-299950.018 -500675.034, -299949.971...   \n",
       "\n",
       "    area (km^2)                                               cite  \n",
       "93   143.202974  Fricker & Scambos, 2009, J. Glac., doi:10.3189...  "
      ]
     },
     "execution_count": 3,
     "metadata": {},
     "output_type": "execute_result"
    }
   ],
   "source": [
    "# locate a single lake to ensure HDF5 was read properly\n",
    "gdf.loc[gdf['name']=='MercerSubglacialLake']"
   ]
  },
  {
   "cell_type": "code",
   "execution_count": 4,
   "metadata": {},
   "outputs": [
    {
     "data": {
      "image/png": "[encoded data removed]",
      "text/plain": [
       "<Figure size 432x288 with 1 Axes>"
      ]
     },
     "metadata": {
      "needs_background": "light"
     },
     "output_type": "display_data"
    }
   ],
   "source": [
    "# plot lakes outlines and zoom into lower Mercer/Whillans lakes (because we love those lakes)\n",
    "fig, ax = plt.subplots()\n",
    "gdf.boundary.plot(ax=ax)\n",
    "# change polar stereographic m to km for cleaner-looking axes labels\n",
    "KM_SCALE = 1e3\n",
    "ticks_x = ticker.FuncFormatter(lambda x, pos: '{0:g}'.format(x/KM_SCALE))\n",
    "ax.xaxis.set_major_formatter(ticks_x)\n",
    "ticks_y = ticker.FuncFormatter(lambda x, pos: '{0:g}'.format(x/KM_SCALE))\n",
    "ax.yaxis.set_major_formatter(ticks_y)\n",
    "# set axes limits\n",
    "ax.set_xlim(-400000,-175000)\n",
    "ax.set_ylim(-700000,-450000)\n",
    "# label axes\n",
    "ax.set_xlabel('polar stereogrpahic x [km]')\n",
    "ax.set_ylabel('polar stereogrpahic y [km]')\n",
    "plt.show()"
   ]
  },
  {
   "cell_type": "code",
   "execution_count": null,
   "metadata": {},
   "outputs": [],
   "source": [
    "# export outlines to kml file to view in Quantarctica, Google Earth, etc.\n",
    "# ensure KML driver is supported\n",
    "gpd.io.file.fiona.drvsupport.supported_drivers['KML'] = 'rw'\n",
    "# ensure file hasn't already been created\n",
    "if os.path.exists('./SiegfriedFricker2018-outlines.kml') == False:\n",
    "    gdf.to_file('SiegfriedFricker2018-outlines.kml', driver='KML')\n",
    "else:\n",
    "    print('file already exists')"
   ]
  }
 ],
 "metadata": {
  "kernelspec": {
   "display_name": "FIS-AG-figs",
   "language": "python",
   "name": "python3"
  },
  "language_info": {
   "codemirror_mode": {
    "name": "ipython",
    "version": 3
   },
   "file_extension": ".py",
   "mimetype": "text/x-python",
   "name": "python",
   "nbconvert_exporter": "python",
   "pygments_lexer": "ipython3",
   "version": "3.10.4"
  },
  "vscode": {
   "interpreter": {
    "hash": "53d945d700bbdf5fa5dab31b6c19df9ea83a89fa9cf3b936f1590f92dca0f006"
   }
  }
 },
 "nbformat": 4,
 "nbformat_minor": 4
}
