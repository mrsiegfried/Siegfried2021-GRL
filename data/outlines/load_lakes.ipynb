{
 "cells": [
  {
   "cell_type": "code",
   "execution_count": 1,
   "metadata": {},
   "outputs": [],
   "source": [
    "# Just a bit of code to run through the HDF5 file and load into a \n",
    "# geopandas geodataframe.\n",
    "#\n",
    "# Written 5/28/21 by W. Sauthoff (sauthoff@mines.edu)\n",
    "# Modified 6/8/21 by M. Siegfried (siegfried@mines.edu)\n",
    "\n",
    "# import packages\n",
    "from shapely.geometry import asPolygon, MultiPolygon\n",
    "from pyproj import Geod, CRS, Transformer # for calculating areas\n",
    "\n",
    "import h5py\n",
    "import pandas as pd\n",
    "import geopandas as gpd\n",
    "import numpy as np"
   ]
  },
  {
   "cell_type": "code",
   "execution_count": 2,
   "metadata": {},
   "outputs": [],
   "source": [
    "# import subglacial lake outlines (Siegfried & Fricker, 2018)\n",
    "h5f = h5py.File('SiegfriedFricker2018-outlines.h5', 'r')\n",
    "outline_geometries = [] # store polygons\n",
    "citations = [] # store citation information\n",
    "\n",
    "# we're going to calculate geodesic lake area because that is often screwed up \n",
    "# and occasionally incorrect in the literature\n",
    "areas = []\n",
    "\n",
    "# we're going to need to do some coordinate transforms for the geodesic area\n",
    "# define CRS for Antarcica and make a converter from xy to ll\n",
    "crs_ll = \"EPSG:4326\" # wgs84 in lon,lat \n",
    "crs_xy = h5f.attrs.get('proj_crs') # get projection from hdf5 file\n",
    "xy_to_ll = Transformer.from_crs(crs_xy, crs_ll, always_xy = True) # make coord transformer\n",
    "geod = CRS(crs_ll).get_geod() # geod object for calculating area on defined ellipsoid\n",
    "\n",
    "# look through each lake and load all of it's info\n",
    "for lake in h5f.keys():\n",
    "    outline_x = h5f[lake]['x'][:]\n",
    "    outline_y = h5f[lake]['y'][:]\n",
    "    outlines_xy = np.stack((outline_x, outline_y),axis=2).reshape(outline_x.shape[1], 2)\n",
    "    \n",
    "    # A single lake with multiple polygons is NaN broken---need to identify and\n",
    "    # load as a MultiPolygon. Otherwise it's easy (just load as polygon)\n",
    "    if np.isnan(outlines_xy)[:,0].sum() == 0:\n",
    "        geometry = asPolygon(outlines_xy)\n",
    "        lon, lat = xy_to_ll.transform(outlines_xy[:,0], outlines_xy[:,1])\n",
    "        this_area = abs(geod.polygon_area_perimeter(lon,lat)[0])/1e6\n",
    "    else:\n",
    "        this_area = 0\n",
    "        # break at NaN values and load each as separate polygons\n",
    "        idx = np.where(np.isnan(outlines_xy[:,0]))[0]\n",
    "        \n",
    "        # grab outline of first lake before getting into the loop\n",
    "        this_outline = outlines_xy[0:idx[0],:]\n",
    "        pgons = [asPolygon(this_outline)] # put the first polygon in a list\n",
    "        lon,lat = xy_to_ll.transform(this_outline[:,0], this_outline[:,1]) \n",
    "        this_area += abs(geod.polygon_area_perimeter(lon,lat)[0])/1e6 # add its area\n",
    "        for i in np.arange(0,len(idx)):\n",
    "            if i == len(idx)-1:\n",
    "                this_outline = outlines_xy[idx[i]+1:,:]\n",
    "            else:\n",
    "                this_outline = outlines_xy[idx[i]+1:idx[i+1]]\n",
    "                \n",
    "            pgons.append(asPolygon(this_outline))\n",
    "            lon,lat = xy_to_ll.transform(this_outline[:,0], this_outline[:,1])\n",
    "            this_area += abs(geod.polygon_area_perimeter(lon,lat)[0])/1e6\n",
    "        geometry = MultiPolygon(pgons)\n",
    "        \n",
    "    # append all the results in the right place\n",
    "    outline_geometries.append(geometry)\n",
    "    citations.append(h5f[lake].attrs.get('citation')[0].decode('UTF-8'))\n",
    "    areas.append(this_area)\n",
    "\n",
    "# make a pandas dataframe with all the necessary info\n",
    "df = pd.DataFrame(zip(h5f.keys(), outline_geometries, areas, citations), \n",
    "                  columns=['name', 'geometry', 'area (km^2)', 'cite'])\n",
    "gdf = gpd.GeoDataFrame(df, crs=crs_xy, geometry=outline_geometries)\n",
    "h5f.close()"
   ]
  },
  {
   "cell_type": "code",
   "execution_count": 3,
   "metadata": {},
   "outputs": [
    {
     "data": {
      "text/plain": [
       "(-700000.0, -450000.0)"
      ]
     },
     "execution_count": 3,
     "metadata": {},
     "output_type": "execute_result"
    },
    {
     "data": {
      "image/png": "[encoded data removed]",
      "text/plain": [
       "<Figure size 432x288 with 1 Axes>"
      ]
     },
     "metadata": {
      "needs_background": "light"
     },
     "output_type": "display_data"
    }
   ],
   "source": [
    "# plot all the lakes and zoom into lower Mercer/Whillans lakes (because we love those lakes)\n",
    "ax = gdf.plot()\n",
    "ax.set_xlim(-400000,-175000)\n",
    "ax.set_ylim(-700000,-450000)"
   ]
  },
  {
   "cell_type": "code",
   "execution_count": 9,
   "metadata": {},
   "outputs": [
    {
     "data": {
      "text/html": [
       "<div>\n",
       "<style scoped>\n",
       "    .dataframe tbody tr th:only-of-type {\n",
       "        vertical-align: middle;\n",
       "    }\n",
       "\n",
       "    .dataframe tbody tr th {\n",
       "        vertical-align: top;\n",
       "    }\n",
       "\n",
       "    .dataframe thead th {\n",
       "        text-align: right;\n",
       "    }\n",
       "</style>\n",
       "<table border=\"1\" class=\"dataframe\">\n",
       "  <thead>\n",
       "    <tr style=\"text-align: right;\">\n",
       "      <th></th>\n",
       "      <th>name</th>\n",
       "      <th>geometry</th>\n",
       "      <th>area (km^2)</th>\n",
       "      <th>cite</th>\n",
       "    </tr>\n",
       "  </thead>\n",
       "  <tbody>\n",
       "    <tr>\n",
       "      <th>93</th>\n",
       "      <td>MercerSubglacialLake</td>\n",
       "      <td>POLYGON ((-299950.018 -500675.034, -299949.971...</td>\n",
       "      <td>143.202974</td>\n",
       "      <td>Fricker &amp; Scambos, 2009, J. Glac., doi:10.3189...</td>\n",
       "    </tr>\n",
       "  </tbody>\n",
       "</table>\n",
       "</div>"
      ],
      "text/plain": [
       "                    name                                           geometry  \\\n",
       "93  MercerSubglacialLake  POLYGON ((-299950.018 -500675.034, -299949.971...   \n",
       "\n",
       "    area (km^2)                                               cite  \n",
       "93   143.202974  Fricker & Scambos, 2009, J. Glac., doi:10.3189...  "
      ]
     },
     "execution_count": 9,
     "metadata": {},
     "output_type": "execute_result"
    }
   ],
   "source": [
    "gdf.loc[gdf['name']=='MercerSubglacialLake']"
   ]
  },
  {
   "cell_type": "code",
   "execution_count": null,
   "metadata": {},
   "outputs": [],
   "source": []
  }
 ],
 "metadata": {
  "kernelspec": {
   "display_name": "plot_lakes",
   "language": "python",
   "name": "plot_lakes"
  },
  "language_info": {
   "codemirror_mode": {
    "name": "ipython",
    "version": 3
   },
   "file_extension": ".py",
   "mimetype": "text/x-python",
   "name": "python",
   "nbconvert_exporter": "python",
   "pygments_lexer": "ipython3",
   "version": "3.7.7"
  }
 },
 "nbformat": 4,
 "nbformat_minor": 4
}
